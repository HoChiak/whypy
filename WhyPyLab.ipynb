{
 "cells": [
  {
   "cell_type": "markdown",
   "metadata": {},
   "source": [
    "# Test Settings (to be deleted)"
   ]
  },
  {
   "cell_type": "markdown",
   "metadata": {},
   "source": [
    "<li>Import Modules</li>"
   ]
  },
  {
   "cell_type": "code",
   "execution_count": 1,
   "metadata": {},
   "outputs": [],
   "source": [
    "import os\n",
    "import numpy as np\n",
    "import pandas as pd\n",
    "# import matplotlib as plt\n",
    "# from random import sample, seed\n",
    "\n",
    "%matplotlib inline"
   ]
  },
  {
   "cell_type": "markdown",
   "metadata": {},
   "source": [
    "<li>Define Directory path</li>"
   ]
  },
  {
   "cell_type": "code",
   "execution_count": 3,
   "metadata": {},
   "outputs": [],
   "source": [
    "# Work Directories\n",
    "# git_dir = r'\\\\imapc\\benutzer\\Mitarbeiterdaten\\henss\\_02_software\\_08_github'\n",
    "# work_dir = r'C:\\Users\\henss'\n",
    "\n",
    "# Mac Directories\n",
    "git_dir = r'/Users/markhenss/Documents/GitHub'\n",
    "work_dir = r'/Applications/anaconda3'\n"
   ]
  },
  {
   "cell_type": "markdown",
   "metadata": {},
   "source": [
    "<li>Load GitHub Modules</li>"
   ]
  },
  {
   "cell_type": "code",
   "execution_count": 4,
   "metadata": {},
   "outputs": [],
   "source": [
    "os.chdir(git_dir)\n",
    "import whypy\n",
    "os.chdir(work_dir)"
   ]
  },
  {
   "cell_type": "markdown",
   "metadata": {},
   "source": [
    "# Causal Inference (Short Introduction)"
   ]
  },
  {
   "cell_type": "markdown",
   "metadata": {},
   "source": [
    "The discovery of causal relationships from purely observational data is a fundamental prob- lem in science. The most elementary form of such a causal discovery problem is to decide whether X causes Y or, alternatively, Y causes X, given joint observations of two variables X, Y. An example is to decide whether altitude causes temperature, or vice versa, given only joint measurements of both variables. Even under the simplifying assumptions of no confounding, no feedback loops, and no selection bias, such bivariate causal discovery prob- lems are challenging. Nevertheless, several approaches for addressing those problems have been proposed in recent years. We review two families of such methods: methods based on Additive Noise Models (ANMs) and"
   ]
  },
  {
   "cell_type": "markdown",
   "metadata": {},
   "source": [
    "![Alt text](__pictures/cause-effect.png?raw=true \"Cause-Effect\")"
   ]
  },
  {
   "cell_type": "markdown",
   "metadata": {},
   "source": []
  },
  {
   "cell_type": "markdown",
   "metadata": {},
   "source": []
  },
  {
   "cell_type": "markdown",
   "metadata": {},
   "source": [
    "# Load Example"
   ]
  },
  {
   "cell_type": "markdown",
   "metadata": {},
   "source": [
    "<p>There are various models, scalers and observational datasets available to be loaded</p>"
   ]
  },
  {
   "cell_type": "markdown",
   "metadata": {},
   "source": [
    "<b>whypy.load.observational</b>(<i>parameters</i>)\n",
    "<p style=\"margin-left: 40px\">\n",
    "    This is a short explanation\n",
    "    <br><br>\n",
    "    <mark>parameters:</mark><br>\n",
    "    <u>modelclass:</u> Defines the Number of variables (2V or 3V); Linear (Li) and non linear (NLi) models; Noise form (Gaussian Additive: GAM); the ground truth of causal structure (collider, reverse-collider, series, confounded, no relation)<br>\n",
    "    Available Models: '3VNLiGAM-collider', '3VNLiGAM-rev-collider', '3VNLiGAM-series', '3VNLiGAM-confounded', '3VNLiGAM-none'<br>\n",
    "    <u>no_observations:</u>  (Default: 100) <br>\n",
    "    <u>seed:</u>  (Default:None)\n",
    "    <br><br>\n",
    "    <mark>returns:</mark><br>\n",
    "    <u>observations:</u> Numpy Array (# observations, # variables)<br>\n",
    "</p>\n"
   ]
  },
  {
   "cell_type": "code",
   "execution_count": 8,
   "metadata": {},
   "outputs": [
    {
     "data": {
      "text/html": [
       "\n",
       "<html>\n",
       "<body>\n",
       "<style>\n",
       "table td, table th, table tr {text-align:left !important;}\n",
       "</style>\n",
       "<div style=\"background-color:lightgrey;color:black;padding:0px;\" align=\"center\">\n",
       "<h4>Description</h4>\n",
       "</div>\n",
       "<table>\n",
       "<tr>\n",
       "<td><b>Modelclass:</b></td> <td>5</td>\n",
       "</tr>\n",
       "<tr>\n",
       "<td><b>No. of Variables:</b></td> <td>3</td>\n",
       "</tr>\n",
       "<tr>\n",
       "<td><b>Class of Functions:</b></td> <td>Non-Linear</td>\n",
       "</tr>\n",
       "<tr>\n",
       "<td><b>Class of Noise Distribution:</b></td> <td>Gaussian, Additive, Non-Equivalent</td>\n",
       "</tr>\n",
       "<tr>\n",
       "<td><b>SCM</b></td> <td>\n",
       "<p>X<sub>0</sub> ~ [ <strong><i>N</i></strong> (1, 0.25) ]</p>\n",
       "                                 <p>X<sub>1</sub> ~ [ <strong><i>N</i></strong> (0, 2.25) ]</p>\n",
       "                                 <p>X<sub>2</sub> ~ [ X<sub>0</sub><sup>4</sup> + X<sub>1</sub><sup>2</sup> + <strong><i>N</i></strong> (0, 0.25) ]</p>\n",
       "</td>\n",
       "</tr>\n",
       "</table>\n",
       "</body>\n",
       "</html>\n",
       "             "
      ],
      "text/plain": [
       "<IPython.core.display.HTML object>"
      ]
     },
     "metadata": {},
     "output_type": "display_data"
    },
    {
     "data": {
      "text/html": [
       "\n",
       "    <div style=\"background-color:lightgrey;color:black;padding:0px;\" align=\"center\">\n",
       "    <h4>Causal Graph</h4>\n",
       "    </div>"
      ],
      "text/plain": [
       "<IPython.core.display.HTML object>"
      ]
     },
     "metadata": {},
     "output_type": "display_data"
    },
    {
     "data": {
      "image/png": "[encoded data removed]",
      "text/plain": [
       "<Figure size 432x288 with 1 Axes>"
      ]
     },
     "metadata": {},
     "output_type": "display_data"
    }
   ],
   "source": [
    "obs = whypy.load.observations(modelclass=5, no_obs=500, seed=1)\n",
    "columns = ['age', 'gender', 'sex']\n",
    "# obs = obs.to_numpy()\n",
    "\n",
    "# seed=1\n",
    "# rand_obs = np.array(sample(obs.flatten().tolist(), 500)).reshape(-1,1)\n",
    "# obs = np.concatenate([obs, rand_obs], axis=1)"
   ]
  },
  {
   "cell_type": "code",
   "execution_count": 9,
   "metadata": {},
   "outputs": [],
   "source": [
    "# os.chdir(r'\\\\imapc\\benutzer\\Mitarbeiterdaten\\henss\\_02_software')\n",
    "# data = pd.read_csv('Test2_Bearing1.csv', sep=',' , header=0, index_col=None)\n",
    "# obs = np.array(data)"
   ]
  },
  {
   "cell_type": "code",
   "execution_count": null,
   "metadata": {},
   "outputs": [],
   "source": []
  },
  {
   "cell_type": "markdown",
   "metadata": {},
   "source": []
  },
  {
   "cell_type": "code",
   "execution_count": 10,
   "metadata": {},
   "outputs": [
    {
     "data": {
      "text/html": [
       "\n",
       " \n",
       "\n",
       "\n",
       "\n",
       "<html>\n",
       "<body>\n",
       "<style>\n",
       "table td, table th, table tr {text-align:left !important;}\n",
       "</style>\n",
       "<div style=\"background-color:lightgrey;color:black;padding:0px;\"\n",
       "align=\"center\">\n",
       "<h4>StandardScaler Description</h4>\n",
       "</div>\n",
       "<table>\n",
       "            \n",
       "<tr>\n",
       "<td align=\"left\"><b>copy:</b></td>\n",
       "<td>True</td>\n",
       "</tr>\n",
       "                \n",
       "<tr>\n",
       "<td align=\"left\"><b>with_mean:</b></td>\n",
       "<td>True</td>\n",
       "</tr>\n",
       "                \n",
       "<tr>\n",
       "<td align=\"left\"><b>with_std:</b></td>\n",
       "<td>True</td>\n",
       "</tr>\n",
       "                \n",
       "</table>\n",
       "</body>\n",
       "</html>\n",
       "            "
      ],
      "text/plain": [
       "<IPython.core.display.HTML object>"
      ]
     },
     "metadata": {},
     "output_type": "display_data"
    }
   ],
   "source": [
    "# regmod = whypy.load.model_svr('rbf')\n",
    "regmod = whypy.load.model_polynomial_lr(2)\n",
    "# regmod = whypy.load.model_lingam(term='spline')\n",
    "scaler = whypy.load.scaler_standard()"
   ]
  },
  {
   "cell_type": "code",
   "execution_count": 11,
   "metadata": {},
   "outputs": [],
   "source": [
    "mymodel1 = whypy.steadystate.mvariate.Model(obs=obs, combinations='all', regmod=regmod, scaler=scaler)\n",
    "mymodel2 = whypy.steadystate.bivariate.Model(obs=obs, combinations='all', regmod=regmod, scaler=scaler, obs_name=columns)"
   ]
  },
  {
   "cell_type": "markdown",
   "metadata": {},
   "source": [
    "<h1>Run</h1>"
   ]
  },
  {
   "cell_type": "code",
   "execution_count": 12,
   "metadata": {},
   "outputs": [
    {
     "data": {
      "text/html": [
       "\n",
       "<html>\n",
       "<body>\n",
       "<div style=\"background-color:black;color:white;padding:8px;letter-spacing:1em;\"\n",
       " align=\"center\">\n",
       "<h2>Run   Causal   Inference</h2>\n",
       "</div>\n",
       "</body>\n",
       "</html>\n",
       "                    "
      ],
      "text/plain": [
       "<IPython.core.display.HTML object>"
      ]
     },
     "metadata": {},
     "output_type": "display_data"
    }
   ],
   "source": [
    "mymodel1.run(testtype='LikelihoodVariance', #LikelihoodVariance LikelihoodEntropy KolmogorovSmirnoff MannWhitney HSIC\n",
    "            scale=True,\n",
    "            bootstrap=False,\n",
    "            holdout=False,\n",
    "            plot_inference=False,\n",
    "            plot_results=False,\n",
    "#             bootstrap_ratio=1,\n",
    "#             bootstrap_seed=5,\n",
    "#             holdout_ratio=0.2,\n",
    "#             holdout_seed=1,\n",
    "#             modelpts=50,\n",
    "#             gridsearch = True,\n",
    "#             param_grid = {'C': [0.001, 0.01, 1, 10],\n",
    "#                           'gamma': [0, 0.00001, 0.001, 0.1, 1],\n",
    "#                           'coef0': [0],\n",
    "#                           'tol': [0.001],\n",
    "#                           'epsilon': [0.1]},\n",
    "            )"
   ]
  },
  {
   "cell_type": "code",
   "execution_count": 13,
   "metadata": {
    "scrolled": true
   },
   "outputs": [],
   "source": [
    "# mymodel.plot_inference()"
   ]
  },
  {
   "cell_type": "markdown",
   "metadata": {},
   "source": []
  },
  {
   "cell_type": "code",
   "execution_count": null,
   "metadata": {},
   "outputs": [],
   "source": []
  },
  {
   "cell_type": "code",
   "execution_count": null,
   "metadata": {},
   "outputs": [],
   "source": []
  },
  {
   "cell_type": "code",
   "execution_count": null,
   "metadata": {},
   "outputs": [],
   "source": []
  },
  {
   "cell_type": "code",
   "execution_count": 10,
   "metadata": {},
   "outputs": [
    {
     "data": {
      "text/html": [
       "\n",
       "<html>\n",
       "<body>\n",
       "<div style=\"background-color:black;color:white;padding:8px;letter-spacing:1em;\"\n",
       " align=\"center\">\n",
       "<h2>Run   Causal   Inference</h2>\n",
       "</div>\n",
       "</body>\n",
       "</html>\n",
       "                    "
      ],
      "text/plain": [
       "<IPython.core.display.HTML object>"
      ]
     },
     "metadata": {},
     "output_type": "display_data"
    },
    {
     "data": {
      "text/html": [
       "\n",
       "<html>\n",
       "<body>\n",
       "<div style=\"background-color:grey;color:white;padding:4px;\" align=\"center\">\n",
       "<h3>Bootstrap: 1 / 30</h3>\n",
       "</div>\n",
       "</body>\n",
       "</html>\n",
       "                    "
      ],
      "text/plain": [
       "<IPython.core.display.HTML object>"
      ]
     },
     "metadata": {},
     "output_type": "display_data"
    },
    {
     "data": {
      "text/html": [
       "\n",
       "<html>\n",
       "<body>\n",
       "<div style=\"background-color:grey;color:white;padding:4px;\" align=\"center\">\n",
       "<h3>Bootstrap: 2 / 30</h3>\n",
       "</div>\n",
       "</body>\n",
       "</html>\n",
       "                    "
      ],
      "text/plain": [
       "<IPython.core.display.HTML object>"
      ]
     },
     "metadata": {},
     "output_type": "display_data"
    },
    {
     "data": {
      "text/html": [
       "\n",
       "<html>\n",
       "<body>\n",
       "<div style=\"background-color:grey;color:white;padding:4px;\" align=\"center\">\n",
       "<h3>Bootstrap: 3 / 30</h3>\n",
       "</div>\n",
       "</body>\n",
       "</html>\n",
       "                    "
      ],
      "text/plain": [
       "<IPython.core.display.HTML object>"
      ]
     },
     "metadata": {},
     "output_type": "display_data"
    },
    {
     "data": {
      "text/html": [
       "\n",
       "<html>\n",
       "<body>\n",
       "<div style=\"background-color:grey;color:white;padding:4px;\" align=\"center\">\n",
       "<h3>Bootstrap: 4 / 30</h3>\n",
       "</div>\n",
       "</body>\n",
       "</html>\n",
       "                    "
      ],
      "text/plain": [
       "<IPython.core.display.HTML object>"
      ]
     },
     "metadata": {},
     "output_type": "display_data"
    },
    {
     "data": {
      "text/html": [
       "\n",
       "<html>\n",
       "<body>\n",
       "<div style=\"background-color:grey;color:white;padding:4px;\" align=\"center\">\n",
       "<h3>Bootstrap: 5 / 30</h3>\n",
       "</div>\n",
       "</body>\n",
       "</html>\n",
       "                    "
      ],
      "text/plain": [
       "<IPython.core.display.HTML object>"
      ]
     },
     "metadata": {},
     "output_type": "display_data"
    },
    {
     "data": {
      "text/html": [
       "\n",
       "<html>\n",
       "<body>\n",
       "<div style=\"background-color:grey;color:white;padding:4px;\" align=\"center\">\n",
       "<h3>Bootstrap: 6 / 30</h3>\n",
       "</div>\n",
       "</body>\n",
       "</html>\n",
       "                    "
      ],
      "text/plain": [
       "<IPython.core.display.HTML object>"
      ]
     },
     "metadata": {},
     "output_type": "display_data"
    },
    {
     "data": {
      "text/html": [
       "\n",
       "<html>\n",
       "<body>\n",
       "<div style=\"background-color:grey;color:white;padding:4px;\" align=\"center\">\n",
       "<h3>Bootstrap: 7 / 30</h3>\n",
       "</div>\n",
       "</body>\n",
       "</html>\n",
       "                    "
      ],
      "text/plain": [
       "<IPython.core.display.HTML object>"
      ]
     },
     "metadata": {},
     "output_type": "display_data"
    },
    {
     "data": {
      "text/html": [
       "\n",
       "<html>\n",
       "<body>\n",
       "<div style=\"background-color:grey;color:white;padding:4px;\" align=\"center\">\n",
       "<h3>Bootstrap: 8 / 30</h3>\n",
       "</div>\n",
       "</body>\n",
       "</html>\n",
       "                    "
      ],
      "text/plain": [
       "<IPython.core.display.HTML object>"
      ]
     },
     "metadata": {},
     "output_type": "display_data"
    },
    {
     "data": {
      "text/html": [
       "\n",
       "<html>\n",
       "<body>\n",
       "<div style=\"background-color:grey;color:white;padding:4px;\" align=\"center\">\n",
       "<h3>Bootstrap: 9 / 30</h3>\n",
       "</div>\n",
       "</body>\n",
       "</html>\n",
       "                    "
      ],
      "text/plain": [
       "<IPython.core.display.HTML object>"
      ]
     },
     "metadata": {},
     "output_type": "display_data"
    },
    {
     "data": {
      "text/html": [
       "\n",
       "<html>\n",
       "<body>\n",
       "<div style=\"background-color:grey;color:white;padding:4px;\" align=\"center\">\n",
       "<h3>Bootstrap: 10 / 30</h3>\n",
       "</div>\n",
       "</body>\n",
       "</html>\n",
       "                    "
      ],
      "text/plain": [
       "<IPython.core.display.HTML object>"
      ]
     },
     "metadata": {},
     "output_type": "display_data"
    },
    {
     "data": {
      "text/html": [
       "\n",
       "<html>\n",
       "<body>\n",
       "<div style=\"background-color:grey;color:white;padding:4px;\" align=\"center\">\n",
       "<h3>Bootstrap: 11 / 30</h3>\n",
       "</div>\n",
       "</body>\n",
       "</html>\n",
       "                    "
      ],
      "text/plain": [
       "<IPython.core.display.HTML object>"
      ]
     },
     "metadata": {},
     "output_type": "display_data"
    },
    {
     "data": {
      "text/html": [
       "\n",
       "<html>\n",
       "<body>\n",
       "<div style=\"background-color:grey;color:white;padding:4px;\" align=\"center\">\n",
       "<h3>Bootstrap: 12 / 30</h3>\n",
       "</div>\n",
       "</body>\n",
       "</html>\n",
       "                    "
      ],
      "text/plain": [
       "<IPython.core.display.HTML object>"
      ]
     },
     "metadata": {},
     "output_type": "display_data"
    },
    {
     "data": {
      "text/html": [
       "\n",
       "<html>\n",
       "<body>\n",
       "<div style=\"background-color:grey;color:white;padding:4px;\" align=\"center\">\n",
       "<h3>Bootstrap: 13 / 30</h3>\n",
       "</div>\n",
       "</body>\n",
       "</html>\n",
       "                    "
      ],
      "text/plain": [
       "<IPython.core.display.HTML object>"
      ]
     },
     "metadata": {},
     "output_type": "display_data"
    },
    {
     "data": {
      "text/html": [
       "\n",
       "<html>\n",
       "<body>\n",
       "<div style=\"background-color:grey;color:white;padding:4px;\" align=\"center\">\n",
       "<h3>Bootstrap: 14 / 30</h3>\n",
       "</div>\n",
       "</body>\n",
       "</html>\n",
       "                    "
      ],
      "text/plain": [
       "<IPython.core.display.HTML object>"
      ]
     },
     "metadata": {},
     "output_type": "display_data"
    },
    {
     "data": {
      "text/html": [
       "\n",
       "<html>\n",
       "<body>\n",
       "<div style=\"background-color:grey;color:white;padding:4px;\" align=\"center\">\n",
       "<h3>Bootstrap: 15 / 30</h3>\n",
       "</div>\n",
       "</body>\n",
       "</html>\n",
       "                    "
      ],
      "text/plain": [
       "<IPython.core.display.HTML object>"
      ]
     },
     "metadata": {},
     "output_type": "display_data"
    },
    {
     "data": {
      "text/html": [
       "\n",
       "<html>\n",
       "<body>\n",
       "<div style=\"background-color:grey;color:white;padding:4px;\" align=\"center\">\n",
       "<h3>Bootstrap: 16 / 30</h3>\n",
       "</div>\n",
       "</body>\n",
       "</html>\n",
       "                    "
      ],
      "text/plain": [
       "<IPython.core.display.HTML object>"
      ]
     },
     "metadata": {},
     "output_type": "display_data"
    },
    {
     "data": {
      "text/html": [
       "\n",
       "<html>\n",
       "<body>\n",
       "<div style=\"background-color:grey;color:white;padding:4px;\" align=\"center\">\n",
       "<h3>Bootstrap: 17 / 30</h3>\n",
       "</div>\n",
       "</body>\n",
       "</html>\n",
       "                    "
      ],
      "text/plain": [
       "<IPython.core.display.HTML object>"
      ]
     },
     "metadata": {},
     "output_type": "display_data"
    },
    {
     "data": {
      "text/html": [
       "\n",
       "<html>\n",
       "<body>\n",
       "<div style=\"background-color:grey;color:white;padding:4px;\" align=\"center\">\n",
       "<h3>Bootstrap: 18 / 30</h3>\n",
       "</div>\n",
       "</body>\n",
       "</html>\n",
       "                    "
      ],
      "text/plain": [
       "<IPython.core.display.HTML object>"
      ]
     },
     "metadata": {},
     "output_type": "display_data"
    },
    {
     "data": {
      "text/html": [
       "\n",
       "<html>\n",
       "<body>\n",
       "<div style=\"background-color:grey;color:white;padding:4px;\" align=\"center\">\n",
       "<h3>Bootstrap: 19 / 30</h3>\n",
       "</div>\n",
       "</body>\n",
       "</html>\n",
       "                    "
      ],
      "text/plain": [
       "<IPython.core.display.HTML object>"
      ]
     },
     "metadata": {},
     "output_type": "display_data"
    },
    {
     "data": {
      "text/html": [
       "\n",
       "<html>\n",
       "<body>\n",
       "<div style=\"background-color:grey;color:white;padding:4px;\" align=\"center\">\n",
       "<h3>Bootstrap: 20 / 30</h3>\n",
       "</div>\n",
       "</body>\n",
       "</html>\n",
       "                    "
      ],
      "text/plain": [
       "<IPython.core.display.HTML object>"
      ]
     },
     "metadata": {},
     "output_type": "display_data"
    },
    {
     "data": {
      "text/html": [
       "\n",
       "<html>\n",
       "<body>\n",
       "<div style=\"background-color:grey;color:white;padding:4px;\" align=\"center\">\n",
       "<h3>Bootstrap: 21 / 30</h3>\n",
       "</div>\n",
       "</body>\n",
       "</html>\n",
       "                    "
      ],
      "text/plain": [
       "<IPython.core.display.HTML object>"
      ]
     },
     "metadata": {},
     "output_type": "display_data"
    },
    {
     "data": {
      "text/html": [
       "\n",
       "<html>\n",
       "<body>\n",
       "<div style=\"background-color:grey;color:white;padding:4px;\" align=\"center\">\n",
       "<h3>Bootstrap: 22 / 30</h3>\n",
       "</div>\n",
       "</body>\n",
       "</html>\n",
       "                    "
      ],
      "text/plain": [
       "<IPython.core.display.HTML object>"
      ]
     },
     "metadata": {},
     "output_type": "display_data"
    },
    {
     "data": {
      "text/html": [
       "\n",
       "<html>\n",
       "<body>\n",
       "<div style=\"background-color:grey;color:white;padding:4px;\" align=\"center\">\n",
       "<h3>Bootstrap: 23 / 30</h3>\n",
       "</div>\n",
       "</body>\n",
       "</html>\n",
       "                    "
      ],
      "text/plain": [
       "<IPython.core.display.HTML object>"
      ]
     },
     "metadata": {},
     "output_type": "display_data"
    },
    {
     "data": {
      "text/html": [
       "\n",
       "<html>\n",
       "<body>\n",
       "<div style=\"background-color:grey;color:white;padding:4px;\" align=\"center\">\n",
       "<h3>Bootstrap: 24 / 30</h3>\n",
       "</div>\n",
       "</body>\n",
       "</html>\n",
       "                    "
      ],
      "text/plain": [
       "<IPython.core.display.HTML object>"
      ]
     },
     "metadata": {},
     "output_type": "display_data"
    },
    {
     "data": {
      "text/html": [
       "\n",
       "<html>\n",
       "<body>\n",
       "<div style=\"background-color:grey;color:white;padding:4px;\" align=\"center\">\n",
       "<h3>Bootstrap: 25 / 30</h3>\n",
       "</div>\n",
       "</body>\n",
       "</html>\n",
       "                    "
      ],
      "text/plain": [
       "<IPython.core.display.HTML object>"
      ]
     },
     "metadata": {},
     "output_type": "display_data"
    },
    {
     "data": {
      "text/html": [
       "\n",
       "<html>\n",
       "<body>\n",
       "<div style=\"background-color:grey;color:white;padding:4px;\" align=\"center\">\n",
       "<h3>Bootstrap: 26 / 30</h3>\n",
       "</div>\n",
       "</body>\n",
       "</html>\n",
       "                    "
      ],
      "text/plain": [
       "<IPython.core.display.HTML object>"
      ]
     },
     "metadata": {},
     "output_type": "display_data"
    },
    {
     "data": {
      "text/html": [
       "\n",
       "<html>\n",
       "<body>\n",
       "<div style=\"background-color:grey;color:white;padding:4px;\" align=\"center\">\n",
       "<h3>Bootstrap: 27 / 30</h3>\n",
       "</div>\n",
       "</body>\n",
       "</html>\n",
       "                    "
      ],
      "text/plain": [
       "<IPython.core.display.HTML object>"
      ]
     },
     "metadata": {},
     "output_type": "display_data"
    },
    {
     "data": {
      "text/html": [
       "\n",
       "<html>\n",
       "<body>\n",
       "<div style=\"background-color:grey;color:white;padding:4px;\" align=\"center\">\n",
       "<h3>Bootstrap: 28 / 30</h3>\n",
       "</div>\n",
       "</body>\n",
       "</html>\n",
       "                    "
      ],
      "text/plain": [
       "<IPython.core.display.HTML object>"
      ]
     },
     "metadata": {},
     "output_type": "display_data"
    },
    {
     "data": {
      "text/html": [
       "\n",
       "<html>\n",
       "<body>\n",
       "<div style=\"background-color:grey;color:white;padding:4px;\" align=\"center\">\n",
       "<h3>Bootstrap: 29 / 30</h3>\n",
       "</div>\n",
       "</body>\n",
       "</html>\n",
       "                    "
      ],
      "text/plain": [
       "<IPython.core.display.HTML object>"
      ]
     },
     "metadata": {},
     "output_type": "display_data"
    },
    {
     "data": {
      "text/html": [
       "\n",
       "<html>\n",
       "<body>\n",
       "<div style=\"background-color:grey;color:white;padding:4px;\" align=\"center\">\n",
       "<h3>Bootstrap: 30 / 30</h3>\n",
       "</div>\n",
       "</body>\n",
       "</html>\n",
       "                    "
      ],
      "text/plain": [
       "<IPython.core.display.HTML object>"
      ]
     },
     "metadata": {},
     "output_type": "display_data"
    },
    {
     "data": {
      "text/html": [
       "\n",
       " \n",
       "\n",
       "\n",
       "\n",
       "\n",
       "\n",
       "\n",
       "\n",
       "\n",
       "\n",
       "<html>\n",
       "<body>\n",
       "<style>\n",
       "table td, table th, table tr {text-align:left !important;}\n",
       "</style>\n",
       "<div style=\"background-color:black;color:white;padding:8px;letter-spacing:1em;\"\n",
       "align=\"center\">\n",
       "<h2>RESULTS</h2>\n",
       "</div>\n",
       "<div style=\"background-color:grey;color:white;padding:4px;\" align=\"center\">\n",
       "<h3>Configuration</h3>\n",
       "</div>\n",
       "<table>\n",
       "                \n",
       "<tr>\n",
       "<td align=\"left\"><b>testtype:</b></td>\n",
       "<td>LikelihoodVariance</td>\n",
       "</tr>\n",
       "                \n",
       "<tr>\n",
       "<td align=\"left\"><b>scale:</b></td>\n",
       "<td>True</td>\n",
       "</tr>\n",
       "                \n",
       "<tr>\n",
       "<td align=\"left\"><b>bootstrap:</b></td>\n",
       "<td>30</td>\n",
       "</tr>\n",
       "                \n",
       "<tr>\n",
       "<td align=\"left\"><b>holdout:</b></td>\n",
       "<td>True</td>\n",
       "</tr>\n",
       "                \n",
       "<tr>\n",
       "<td align=\"left\"><b>shape_observations:</b></td>\n",
       "<td>(500, 3)</td>\n",
       "</tr>\n",
       "                \n",
       "<tr>\n",
       "<td align=\"left\"><b>shape_combinations:</b></td>\n",
       "<td>(6, 2)</td>\n",
       "</tr>\n",
       "                \n",
       "<tr>\n",
       "<td align=\"left\"><b>regression_model:</b></td>\n",
       "<td>Pipeline(memory=None,\n",
       "     steps=[('functiontransformer', FunctionTransformer(accept_sparse=False, check_inverse=True,\n",
       "          func=<function polyreg.<locals>.polyfeatures at 0x11103bc80>,\n",
       "          inv_kw_args=None, inverse_func=None, kw_args=None,\n",
       "          pass_y='deprecated', validate=True)), ('ridgecv', RidgeCV(alphas=array([ 0.1,  1. , 10. ]), cv=None, fit_intercept=True,\n",
       "    gcv_mode=None, normalize=False, scoring=None, store_cv_values=False))])</td>\n",
       "</tr>\n",
       "                \n",
       "<tr>\n",
       "<td align=\"left\"><b>scaler_model:</b></td>\n",
       "<td>StandardScaler(copy=True, with_mean=True, with_std=True)</td>\n",
       "</tr>\n",
       "                \n",
       "<tr>\n",
       "<td align=\"left\"><b>**kwargs:</b></td>\n",
       "<td>{'bootstrap_ratio': 1, 'bootstrap_seed': 1, 'holdout_ratio': 0.2, 'holdout_seed': 1, 'modelpts': 50, 'gridsearch': False}</td>\n",
       "</tr>\n",
       "                \n",
       "</table>\n",
       "</body>\n",
       "</html>\n",
       "                "
      ],
      "text/plain": [
       "<IPython.core.display.HTML object>"
      ]
     },
     "metadata": {},
     "output_type": "display_data"
    },
    {
     "data": {
      "text/html": [
       "\n",
       "<html>\n",
       "<body>\n",
       "</div>\n",
       "<div style=\"background-color:grey;color:white;padding:4px;\" align=\"center\">\n",
       "<h3>Normality Test</h3>\n",
       "</div>\n",
       "</body>\n",
       "</html>\n",
       "                "
      ],
      "text/plain": [
       "<IPython.core.display.HTML object>"
      ]
     },
     "metadata": {},
     "output_type": "display_data"
    },
    {
     "data": {
      "text/html": [
       "\n",
       "<html>\n",
       "<body>\n",
       "<div style=\"background-color:lightgrey;color:black;padding:0px;\"\n",
       "align=\"center\">\n",
       "<h4>Pearsons p-value</h4>\n",
       "</div>\n",
       "</body>\n",
       "</html>\n",
       "                "
      ],
      "text/plain": [
       "<IPython.core.display.HTML object>"
      ]
     },
     "metadata": {},
     "output_type": "display_data"
    },
    {
     "data": {
      "text/html": [
       "<table border=\"1\" class=\"dataframe\">\n",
       "  <thead>\n",
       "    <tr style=\"text-align: right;\">\n",
       "      <th></th>\n",
       "      <th>Bivariate Comparison</th>\n",
       "      <th>Indep. Variable [Median]</th>\n",
       "      <th>Indep. Variable [SD]</th>\n",
       "      <th>Depen. Variable [Median]</th>\n",
       "      <th>Depen. Variable [SD]</th>\n",
       "      <th>Residuals [Median]</th>\n",
       "      <th>Residuals [SD]</th>\n",
       "    </tr>\n",
       "  </thead>\n",
       "  <tbody>\n",
       "    <tr>\n",
       "      <th>0</th>\n",
       "      <td>$age \\sim f(gender)$</td>\n",
       "      <td>9.631e-14</td>\n",
       "      <td>9.862e-07</td>\n",
       "      <td>6.025e-01</td>\n",
       "      <td>2.737e-01</td>\n",
       "      <td>7.120e-07</td>\n",
       "      <td>3.483e-02</td>\n",
       "    </tr>\n",
       "    <tr>\n",
       "      <th>1</th>\n",
       "      <td>$gender \\sim f(age)$</td>\n",
       "      <td>6.025e-01</td>\n",
       "      <td>2.737e-01</td>\n",
       "      <td>9.631e-14</td>\n",
       "      <td>9.862e-07</td>\n",
       "      <td>4.762e-01</td>\n",
       "      <td>3.578e-01</td>\n",
       "    </tr>\n",
       "    <tr>\n",
       "      <th>2</th>\n",
       "      <td>$age \\sim f(sex)$</td>\n",
       "      <td>1.418e-27</td>\n",
       "      <td>9.714e-21</td>\n",
       "      <td>6.025e-01</td>\n",
       "      <td>2.737e-01</td>\n",
       "      <td>1.457e-05</td>\n",
       "      <td>5.124e-03</td>\n",
       "    </tr>\n",
       "    <tr>\n",
       "      <th>3</th>\n",
       "      <td>$sex \\sim f(age)$</td>\n",
       "      <td>6.025e-01</td>\n",
       "      <td>2.737e-01</td>\n",
       "      <td>1.418e-27</td>\n",
       "      <td>9.714e-21</td>\n",
       "      <td>2.142e-13</td>\n",
       "      <td>1.692e-01</td>\n",
       "    </tr>\n",
       "    <tr>\n",
       "      <th>4</th>\n",
       "      <td>$gender \\sim f(sex)$</td>\n",
       "      <td>1.418e-27</td>\n",
       "      <td>9.714e-21</td>\n",
       "      <td>9.631e-14</td>\n",
       "      <td>9.862e-07</td>\n",
       "      <td>1.006e-07</td>\n",
       "      <td>4.374e-02</td>\n",
       "    </tr>\n",
       "    <tr>\n",
       "      <th>5</th>\n",
       "      <td>$sex \\sim f(gender)$</td>\n",
       "      <td>9.631e-14</td>\n",
       "      <td>9.862e-07</td>\n",
       "      <td>1.418e-27</td>\n",
       "      <td>9.714e-21</td>\n",
       "      <td>3.339e-02</td>\n",
       "      <td>2.557e-01</td>\n",
       "    </tr>\n",
       "  </tbody>\n",
       "</table>"
      ],
      "text/plain": [
       "<IPython.core.display.HTML object>"
      ]
     },
     "metadata": {},
     "output_type": "display_data"
    },
    {
     "data": {
      "text/html": [
       "\n",
       "<html>\n",
       "<body>\n",
       "<div style=\"background-color:lightgrey;color:black;padding:0px;\"\n",
       "align=\"center\">\n",
       "<h4>Shapiro Wilk p-value</h4>\n",
       "</div>\n",
       "</body>\n",
       "</html>\n",
       "                "
      ],
      "text/plain": [
       "<IPython.core.display.HTML object>"
      ]
     },
     "metadata": {},
     "output_type": "display_data"
    },
    {
     "data": {
      "text/html": [
       "<table border=\"1\" class=\"dataframe\">\n",
       "  <thead>\n",
       "    <tr style=\"text-align: right;\">\n",
       "      <th></th>\n",
       "      <th>Bivariate Comparison</th>\n",
       "      <th>Indep. Variable [Median]</th>\n",
       "      <th>Indep. Variable [SD]</th>\n",
       "      <th>Depen. Variable [Median]</th>\n",
       "      <th>Depen. Variable [SD]</th>\n",
       "      <th>Residuals [Median]</th>\n",
       "      <th>Residuals [SD]</th>\n",
       "    </tr>\n",
       "  </thead>\n",
       "  <tbody>\n",
       "    <tr>\n",
       "      <th>0</th>\n",
       "      <td>$age \\sim f(gender)$</td>\n",
       "      <td>1.967e-10</td>\n",
       "      <td>3.609e-06</td>\n",
       "      <td>4.341e-01</td>\n",
       "      <td>2.577e-01</td>\n",
       "      <td>2.882e-05</td>\n",
       "      <td>2.519e-02</td>\n",
       "    </tr>\n",
       "    <tr>\n",
       "      <th>1</th>\n",
       "      <td>$gender \\sim f(age)$</td>\n",
       "      <td>4.341e-01</td>\n",
       "      <td>2.577e-01</td>\n",
       "      <td>1.967e-10</td>\n",
       "      <td>3.609e-06</td>\n",
       "      <td>3.975e-01</td>\n",
       "      <td>3.330e-01</td>\n",
       "    </tr>\n",
       "    <tr>\n",
       "      <th>2</th>\n",
       "      <td>$age \\sim f(sex)$</td>\n",
       "      <td>2.535e-18</td>\n",
       "      <td>1.203e-16</td>\n",
       "      <td>4.341e-01</td>\n",
       "      <td>2.577e-01</td>\n",
       "      <td>1.371e-05</td>\n",
       "      <td>1.435e-03</td>\n",
       "    </tr>\n",
       "    <tr>\n",
       "      <th>3</th>\n",
       "      <td>$sex \\sim f(age)$</td>\n",
       "      <td>4.341e-01</td>\n",
       "      <td>2.577e-01</td>\n",
       "      <td>2.535e-18</td>\n",
       "      <td>1.203e-16</td>\n",
       "      <td>9.995e-11</td>\n",
       "      <td>8.798e-03</td>\n",
       "    </tr>\n",
       "    <tr>\n",
       "      <th>4</th>\n",
       "      <td>$gender \\sim f(sex)$</td>\n",
       "      <td>2.535e-18</td>\n",
       "      <td>1.203e-16</td>\n",
       "      <td>1.967e-10</td>\n",
       "      <td>3.609e-06</td>\n",
       "      <td>3.586e-08</td>\n",
       "      <td>5.077e-03</td>\n",
       "    </tr>\n",
       "    <tr>\n",
       "      <th>5</th>\n",
       "      <td>$sex \\sim f(gender)$</td>\n",
       "      <td>1.967e-10</td>\n",
       "      <td>3.609e-06</td>\n",
       "      <td>2.535e-18</td>\n",
       "      <td>1.203e-16</td>\n",
       "      <td>4.039e-02</td>\n",
       "      <td>2.094e-01</td>\n",
       "    </tr>\n",
       "  </tbody>\n",
       "</table>"
      ],
      "text/plain": [
       "<IPython.core.display.HTML object>"
      ]
     },
     "metadata": {},
     "output_type": "display_data"
    },
    {
     "data": {
      "text/html": [
       "\n",
       "<html>\n",
       "<body>\n",
       "<div style=\"background-color:lightgrey;color:black;padding:0px;\"\n",
       "align=\"center\">\n",
       "<h4>Combined p-value</h4>\n",
       "</div>\n",
       "</body>\n",
       "</html>\n",
       "                "
      ],
      "text/plain": [
       "<IPython.core.display.HTML object>"
      ]
     },
     "metadata": {},
     "output_type": "display_data"
    },
    {
     "data": {
      "text/html": [
       "<table border=\"1\" class=\"dataframe\">\n",
       "  <thead>\n",
       "    <tr style=\"text-align: right;\">\n",
       "      <th></th>\n",
       "      <th>Bivariate Comparison</th>\n",
       "      <th>Indep. Variable [Median]</th>\n",
       "      <th>Indep. Variable [SD]</th>\n",
       "      <th>Depen. Variable [Median]</th>\n",
       "      <th>Depen. Variable [SD]</th>\n",
       "      <th>Residuals [Median]</th>\n",
       "      <th>Residuals [SD]</th>\n",
       "    </tr>\n",
       "  </thead>\n",
       "  <tbody>\n",
       "    <tr>\n",
       "      <th>0</th>\n",
       "      <td>$age \\sim f(gender)$</td>\n",
       "      <td>2.408e-21</td>\n",
       "      <td>3.808e-10</td>\n",
       "      <td>5.327e-01</td>\n",
       "      <td>2.984e-01</td>\n",
       "      <td>3.135e-10</td>\n",
       "      <td>2.202e-02</td>\n",
       "    </tr>\n",
       "    <tr>\n",
       "      <th>1</th>\n",
       "      <td>$gender \\sim f(age)$</td>\n",
       "      <td>5.327e-01</td>\n",
       "      <td>2.984e-01</td>\n",
       "      <td>2.408e-21</td>\n",
       "      <td>3.808e-10</td>\n",
       "      <td>5.323e-01</td>\n",
       "      <td>4.068e-01</td>\n",
       "    </tr>\n",
       "    <tr>\n",
       "      <th>2</th>\n",
       "      <td>$age \\sim f(sex)$</td>\n",
       "      <td>5.213e-43</td>\n",
       "      <td>2.223e-34</td>\n",
       "      <td>5.327e-01</td>\n",
       "      <td>2.984e-01</td>\n",
       "      <td>7.772e-09</td>\n",
       "      <td>1.264e-04</td>\n",
       "    </tr>\n",
       "    <tr>\n",
       "      <th>3</th>\n",
       "      <td>$sex \\sim f(age)$</td>\n",
       "      <td>5.327e-01</td>\n",
       "      <td>2.984e-01</td>\n",
       "      <td>5.213e-43</td>\n",
       "      <td>2.223e-34</td>\n",
       "      <td>6.547e-21</td>\n",
       "      <td>3.381e-02</td>\n",
       "    </tr>\n",
       "    <tr>\n",
       "      <th>4</th>\n",
       "      <td>$gender \\sim f(sex)$</td>\n",
       "      <td>5.213e-43</td>\n",
       "      <td>2.223e-34</td>\n",
       "      <td>2.408e-21</td>\n",
       "      <td>3.808e-10</td>\n",
       "      <td>2.001e-13</td>\n",
       "      <td>4.159e-03</td>\n",
       "    </tr>\n",
       "    <tr>\n",
       "      <th>5</th>\n",
       "      <td>$sex \\sim f(gender)$</td>\n",
       "      <td>2.408e-21</td>\n",
       "      <td>3.808e-10</td>\n",
       "      <td>5.213e-43</td>\n",
       "      <td>2.223e-34</td>\n",
       "      <td>1.023e-02</td>\n",
       "      <td>2.296e-01</td>\n",
       "    </tr>\n",
       "  </tbody>\n",
       "</table>"
      ],
      "text/plain": [
       "<IPython.core.display.HTML object>"
      ]
     },
     "metadata": {},
     "output_type": "display_data"
    },
    {
     "data": {
      "text/html": [
       "\n",
       "<html>\n",
       "<body>\n",
       "</div>\n",
       "<div style=\"background-color:grey;color:white;padding:4px;\" align=\"center\">\n",
       "<h3>Dependence: Depen. Variable - Prediction (GoF)</h3>\n",
       "</div>\n",
       "                "
      ],
      "text/plain": [
       "<IPython.core.display.HTML object>"
      ]
     },
     "metadata": {},
     "output_type": "display_data"
    },
    {
     "data": {
      "text/html": [
       "\n",
       "<html>\n",
       "<body>\n",
       "<div style=\"background-color:lightgrey;color:black;padding:0px;\"\n",
       "align=\"center\">\n",
       "<h4>LikelihoodVariance: likelihood-ratio</h4>\n",
       "</div>\n",
       "</body>\n",
       "</html>\n",
       "                "
      ],
      "text/plain": [
       "<IPython.core.display.HTML object>"
      ]
     },
     "metadata": {},
     "output_type": "display_data"
    },
    {
     "data": {
      "text/html": [
       "<table border=\"1\" class=\"dataframe\">\n",
       "  <thead>\n",
       "    <tr style=\"text-align: right;\">\n",
       "      <th></th>\n",
       "      <th>Bivariate Comparison</th>\n",
       "      <th>Depen. Variable - Prediction [Median]</th>\n",
       "      <th>Depen. Variable - Prediction [SD]</th>\n",
       "    </tr>\n",
       "  </thead>\n",
       "  <tbody>\n",
       "    <tr>\n",
       "      <th>0</th>\n",
       "      <td>$age \\sim f(gender)$</td>\n",
       "      <td>3.384e+00</td>\n",
       "      <td>8.182e-01</td>\n",
       "    </tr>\n",
       "    <tr>\n",
       "      <th>1</th>\n",
       "      <td>$gender \\sim f(age)$</td>\n",
       "      <td>-5.713e+00</td>\n",
       "      <td>9.601e-01</td>\n",
       "    </tr>\n",
       "    <tr>\n",
       "      <th>2</th>\n",
       "      <td>$age \\sim f(sex)$</td>\n",
       "      <td>3.664e+00</td>\n",
       "      <td>2.373e+00</td>\n",
       "    </tr>\n",
       "    <tr>\n",
       "      <th>3</th>\n",
       "      <td>$sex \\sim f(age)$</td>\n",
       "      <td>-1.706e+01</td>\n",
       "      <td>2.241e+00</td>\n",
       "    </tr>\n",
       "    <tr>\n",
       "      <th>4</th>\n",
       "      <td>$gender \\sim f(sex)$</td>\n",
       "      <td>-5.742e+00</td>\n",
       "      <td>2.306e+00</td>\n",
       "    </tr>\n",
       "    <tr>\n",
       "      <th>5</th>\n",
       "      <td>$sex \\sim f(gender)$</td>\n",
       "      <td>-1.697e+01</td>\n",
       "      <td>2.428e+00</td>\n",
       "    </tr>\n",
       "  </tbody>\n",
       "</table>"
      ],
      "text/plain": [
       "<IPython.core.display.HTML object>"
      ]
     },
     "metadata": {},
     "output_type": "display_data"
    },
    {
     "data": {
      "image/png": "[encoded data removed]",
      "text/plain": [
       "<Figure size 720x339.408 with 1 Axes>"
      ]
     },
     "metadata": {
      "needs_background": "light"
     },
     "output_type": "display_data"
    },
    {
     "data": {
      "text/html": [
       "\n",
       "<html>\n",
       "<body>\n",
       "</div>\n",
       "<div style=\"background-color:grey;color:white;padding:4px;\" align=\"center\">\n",
       "<h3>Dependence: Indep. Variable - Residuals</h3>\n",
       "</div>\n",
       "</body>\n",
       "</html>\n",
       "                "
      ],
      "text/plain": [
       "<IPython.core.display.HTML object>"
      ]
     },
     "metadata": {},
     "output_type": "display_data"
    },
    {
     "data": {
      "text/html": [
       "\n",
       "<html>\n",
       "<body>\n",
       "<div style=\"background-color:lightgrey;color:black;padding:0px;\"\n",
       "align=\"center\">\n",
       "<h4>LikelihoodVariance: likelihood-ratio</h4>\n",
       "</div>\n",
       "</body>\n",
       "</html>\n",
       "                "
      ],
      "text/plain": [
       "<IPython.core.display.HTML object>"
      ]
     },
     "metadata": {},
     "output_type": "display_data"
    },
    {
     "data": {
      "text/html": [
       "<table border=\"1\" class=\"dataframe\">\n",
       "  <thead>\n",
       "    <tr style=\"text-align: right;\">\n",
       "      <th></th>\n",
       "      <th>Bivariate Comparison</th>\n",
       "      <th>Indep. Variable - Residuals [Median]</th>\n",
       "      <th>Indep. Variable - Residuals [SD]</th>\n",
       "    </tr>\n",
       "  </thead>\n",
       "  <tbody>\n",
       "    <tr>\n",
       "      <th>0</th>\n",
       "      <td>$age \\sim f(gender)$</td>\n",
       "      <td>-4.221e-01</td>\n",
       "      <td>1.072e+00</td>\n",
       "    </tr>\n",
       "    <tr>\n",
       "      <th>1</th>\n",
       "      <td>$gender \\sim f(age)$</td>\n",
       "      <td>7.646e-01</td>\n",
       "      <td>1.996e-01</td>\n",
       "    </tr>\n",
       "    <tr>\n",
       "      <th>2</th>\n",
       "      <td>$age \\sim f(sex)$</td>\n",
       "      <td>-6.193e+00</td>\n",
       "      <td>2.929e+00</td>\n",
       "    </tr>\n",
       "    <tr>\n",
       "      <th>3</th>\n",
       "      <td>$sex \\sim f(age)$</td>\n",
       "      <td>-4.843e+00</td>\n",
       "      <td>9.029e-01</td>\n",
       "    </tr>\n",
       "    <tr>\n",
       "      <th>4</th>\n",
       "      <td>$gender \\sim f(sex)$</td>\n",
       "      <td>-9.169e+00</td>\n",
       "      <td>2.881e+00</td>\n",
       "    </tr>\n",
       "    <tr>\n",
       "      <th>5</th>\n",
       "      <td>$sex \\sim f(gender)$</td>\n",
       "      <td>-3.152e+00</td>\n",
       "      <td>8.569e-01</td>\n",
       "    </tr>\n",
       "  </tbody>\n",
       "</table>"
      ],
      "text/plain": [
       "<IPython.core.display.HTML object>"
      ]
     },
     "metadata": {},
     "output_type": "display_data"
    },
    {
     "data": {
      "image/png": "[encoded data removed]",
      "text/plain": [
       "<Figure size 720x339.408 with 1 Axes>"
      ]
     },
     "metadata": {
      "needs_background": "light"
     },
     "output_type": "display_data"
    }
   ],
   "source": [
    "mymodel2.run(testtype='LikelihoodVariance', #LikelihoodVariance LikelihoodEntropy KolmogorovSmirnoff MannWhitney HSIC\n",
    "            scale=True,\n",
    "            bootstrap=30,\n",
    "            holdout=True,\n",
    "            plot_inference=False,\n",
    "            plot_results=True,\n",
    "#             bootstrap_ratio=1,\n",
    "#             bootstrap_seed=5,\n",
    "#             holdout_ratio=0.2,\n",
    "#             holdout_seed=1,\n",
    "#             modelpts=50,\n",
    "#             gridsearch = True,\n",
    "#             param_grid = {'C': [0.001, 0.01, 1, 10],\n",
    "#                           'gamma': [0, 0.00001, 0.001, 0.1, 1],\n",
    "#                           'coef0': [0],\n",
    "#                           'tol': [0.001],\n",
    "#                           'epsilon': [0.1]},\n",
    "            )"
   ]
  },
  {
   "cell_type": "code",
   "execution_count": 11,
   "metadata": {},
   "outputs": [
    {
     "data": {
      "text/html": [
       "<div>\n",
       "<style scoped>\n",
       "    .dataframe tbody tr th:only-of-type {\n",
       "        vertical-align: middle;\n",
       "    }\n",
       "\n",
       "    .dataframe tbody tr th {\n",
       "        vertical-align: top;\n",
       "    }\n",
       "\n",
       "    .dataframe thead th {\n",
       "        text-align: right;\n",
       "    }\n",
       "</style>\n",
       "<table border=\"1\" class=\"dataframe\">\n",
       "  <thead>\n",
       "    <tr style=\"text-align: right;\">\n",
       "      <th></th>\n",
       "      <th>index</th>\n",
       "      <th>Fitted Combination</th>\n",
       "      <th>Bivariate Comparison</th>\n",
       "      <th>tdep</th>\n",
       "      <th>tindeps</th>\n",
       "      <th>tindep</th>\n",
       "      <th>Normality Indep. Variable SW_pvalue [List]</th>\n",
       "      <th>Normality Indep. Variable SW_pvalue [Median]</th>\n",
       "      <th>Normality Indep. Variable SW_pvalue [SD]</th>\n",
       "      <th>Normality Indep. Variable Pearson_pvalue [List]</th>\n",
       "      <th>...</th>\n",
       "      <th>Normality Residuals Pearson_pvalue [SD]</th>\n",
       "      <th>Normality Residuals Combined_pvalue [List]</th>\n",
       "      <th>Normality Residuals Combined_pvalue [Median]</th>\n",
       "      <th>Normality Residuals Combined_pvalue [SD]</th>\n",
       "      <th>Dependence: Indep. Variable - Residuals LikelihoodVariance [List]</th>\n",
       "      <th>Dependence: Indep. Variable - Residuals LikelihoodVariance [Median]</th>\n",
       "      <th>Dependence: Indep. Variable - Residuals LikelihoodVariance [SD]</th>\n",
       "      <th>Dependence: Depen. Variable - Prediction (GoF) LikelihoodVariance [List]</th>\n",
       "      <th>Dependence: Depen. Variable - Prediction (GoF) LikelihoodVariance [Median]</th>\n",
       "      <th>Dependence: Depen. Variable - Prediction (GoF) LikelihoodVariance [SD]</th>\n",
       "    </tr>\n",
       "  </thead>\n",
       "  <tbody>\n",
       "    <tr>\n",
       "      <th>0</th>\n",
       "      <td>0</td>\n",
       "      <td>$age,\\ gender$</td>\n",
       "      <td>$age \\sim f(gender)$</td>\n",
       "      <td>0</td>\n",
       "      <td>[1]</td>\n",
       "      <td>1</td>\n",
       "      <td>[9.174220494401197e-09, 1.2581369446706958e-05...</td>\n",
       "      <td>1.967e-10</td>\n",
       "      <td>3.609e-06</td>\n",
       "      <td>[1.1762364238483928e-11, 1.5393808856710522e-0...</td>\n",
       "      <td>...</td>\n",
       "      <td>3.483e-02</td>\n",
       "      <td>[1.6974924616690583e-13, 2.3619619590414085e-1...</td>\n",
       "      <td>3.135e-10</td>\n",
       "      <td>2.202e-02</td>\n",
       "      <td>[-0.20445179709545025, -0.339351161676392, 0.1...</td>\n",
       "      <td>-4.221e-01</td>\n",
       "      <td>1.072e+00</td>\n",
       "      <td>[3.476556590613085, 3.3497824551055118, 3.7559...</td>\n",
       "      <td>3.384e+00</td>\n",
       "      <td>8.182e-01</td>\n",
       "    </tr>\n",
       "    <tr>\n",
       "      <th>1</th>\n",
       "      <td>0</td>\n",
       "      <td>$age,\\ gender$</td>\n",
       "      <td>$gender \\sim f(age)$</td>\n",
       "      <td>1</td>\n",
       "      <td>[0]</td>\n",
       "      <td>0</td>\n",
       "      <td>[0.07172016054391861, 0.01349840871989727, 0.3...</td>\n",
       "      <td>4.341e-01</td>\n",
       "      <td>2.577e-01</td>\n",
       "      <td>[0.11800737201767288, 0.0783157534591265, 0.31...</td>\n",
       "      <td>...</td>\n",
       "      <td>3.578e-01</td>\n",
       "      <td>[0.6603203427891817, 7.214231446820654e-06, 0....</td>\n",
       "      <td>5.323e-01</td>\n",
       "      <td>4.068e-01</td>\n",
       "      <td>[0.7078546436747026, 0.5637190899442118, 0.948...</td>\n",
       "      <td>7.646e-01</td>\n",
       "      <td>1.996e-01</td>\n",
       "      <td>[-4.66246212348337, -4.724936389435406, -4.731...</td>\n",
       "      <td>-5.713e+00</td>\n",
       "      <td>9.601e-01</td>\n",
       "    </tr>\n",
       "    <tr>\n",
       "      <th>2</th>\n",
       "      <td>0</td>\n",
       "      <td>$age,\\ sex$</td>\n",
       "      <td>$age \\sim f(sex)$</td>\n",
       "      <td>0</td>\n",
       "      <td>[2]</td>\n",
       "      <td>2</td>\n",
       "      <td>[3.649910878242777e-18, 1.3378791434164088e-16...</td>\n",
       "      <td>2.535e-18</td>\n",
       "      <td>1.203e-16</td>\n",
       "      <td>[3.8340701022867694e-27, 1.7274560169036556e-2...</td>\n",
       "      <td>...</td>\n",
       "      <td>5.124e-03</td>\n",
       "      <td>[7.291144160060468e-10, 8.370690512257363e-12,...</td>\n",
       "      <td>7.772e-09</td>\n",
       "      <td>1.264e-04</td>\n",
       "      <td>[-5.5950002882231455, -5.2988864578505055, -5....</td>\n",
       "      <td>-6.193e+00</td>\n",
       "      <td>2.929e+00</td>\n",
       "      <td>[3.672995465501089, 3.8718699774548564, 4.5392...</td>\n",
       "      <td>3.664e+00</td>\n",
       "      <td>2.373e+00</td>\n",
       "    </tr>\n",
       "    <tr>\n",
       "      <th>3</th>\n",
       "      <td>0</td>\n",
       "      <td>$age,\\ sex$</td>\n",
       "      <td>$sex \\sim f(age)$</td>\n",
       "      <td>2</td>\n",
       "      <td>[0]</td>\n",
       "      <td>0</td>\n",
       "      <td>[0.07172016054391861, 0.01349840871989727, 0.3...</td>\n",
       "      <td>4.341e-01</td>\n",
       "      <td>2.577e-01</td>\n",
       "      <td>[0.11800737201767288, 0.0783157534591265, 0.31...</td>\n",
       "      <td>...</td>\n",
       "      <td>1.692e-01</td>\n",
       "      <td>[2.0286025994704707e-19, 2.886253174949047e-22...</td>\n",
       "      <td>6.547e-21</td>\n",
       "      <td>3.381e-02</td>\n",
       "      <td>[-3.5485628259598596, -3.576036432467088, -4.9...</td>\n",
       "      <td>-4.843e+00</td>\n",
       "      <td>9.029e-01</td>\n",
       "      <td>[-15.100053025352242, -14.915525488336936, -15...</td>\n",
       "      <td>-1.706e+01</td>\n",
       "      <td>2.241e+00</td>\n",
       "    </tr>\n",
       "    <tr>\n",
       "      <th>4</th>\n",
       "      <td>0</td>\n",
       "      <td>$gender,\\ sex$</td>\n",
       "      <td>$gender \\sim f(sex)$</td>\n",
       "      <td>1</td>\n",
       "      <td>[2]</td>\n",
       "      <td>2</td>\n",
       "      <td>[3.649910878242777e-18, 1.3378791434164088e-16...</td>\n",
       "      <td>2.535e-18</td>\n",
       "      <td>1.203e-16</td>\n",
       "      <td>[3.8340701022867694e-27, 1.7274560169036556e-2...</td>\n",
       "      <td>...</td>\n",
       "      <td>4.374e-02</td>\n",
       "      <td>[4.673660758849156e-29, 8.886490044160222e-32,...</td>\n",
       "      <td>2.001e-13</td>\n",
       "      <td>4.159e-03</td>\n",
       "      <td>[-8.329110943611834, -8.380616446956406, -8.39...</td>\n",
       "      <td>-9.169e+00</td>\n",
       "      <td>2.881e+00</td>\n",
       "      <td>[-4.793824389443417, -4.696360115468054, -4.20...</td>\n",
       "      <td>-5.742e+00</td>\n",
       "      <td>2.306e+00</td>\n",
       "    </tr>\n",
       "    <tr>\n",
       "      <th>5</th>\n",
       "      <td>0</td>\n",
       "      <td>$gender,\\ sex$</td>\n",
       "      <td>$sex \\sim f(gender)$</td>\n",
       "      <td>2</td>\n",
       "      <td>[1]</td>\n",
       "      <td>1</td>\n",
       "      <td>[9.174220494401197e-09, 1.2581369446706958e-05...</td>\n",
       "      <td>1.967e-10</td>\n",
       "      <td>3.609e-06</td>\n",
       "      <td>[1.1762364238483928e-11, 1.5393808856710522e-0...</td>\n",
       "      <td>...</td>\n",
       "      <td>2.557e-01</td>\n",
       "      <td>[0.0002262229567556294, 0.02945786377691666, 0...</td>\n",
       "      <td>1.023e-02</td>\n",
       "      <td>2.296e-01</td>\n",
       "      <td>[-2.8718374330768004, -2.5672369398645767, -2....</td>\n",
       "      <td>-3.152e+00</td>\n",
       "      <td>8.569e-01</td>\n",
       "      <td>[-15.388442583541142, -14.672650430538763, -15...</td>\n",
       "      <td>-1.697e+01</td>\n",
       "      <td>2.428e+00</td>\n",
       "    </tr>\n",
       "  </tbody>\n",
       "</table>\n",
       "<p>6 rows × 39 columns</p>\n",
       "</div>"
      ],
      "text/plain": [
       "   index Fitted Combination  Bivariate Comparison tdep tindeps tindep  \\\n",
       "0      0     $age,\\ gender$  $age \\sim f(gender)$    0     [1]      1   \n",
       "1      0     $age,\\ gender$  $gender \\sim f(age)$    1     [0]      0   \n",
       "2      0        $age,\\ sex$     $age \\sim f(sex)$    0     [2]      2   \n",
       "3      0        $age,\\ sex$     $sex \\sim f(age)$    2     [0]      0   \n",
       "4      0     $gender,\\ sex$  $gender \\sim f(sex)$    1     [2]      2   \n",
       "5      0     $gender,\\ sex$  $sex \\sim f(gender)$    2     [1]      1   \n",
       "\n",
       "          Normality Indep. Variable SW_pvalue [List]  \\\n",
       "0  [9.174220494401197e-09, 1.2581369446706958e-05...   \n",
       "1  [0.07172016054391861, 0.01349840871989727, 0.3...   \n",
       "2  [3.649910878242777e-18, 1.3378791434164088e-16...   \n",
       "3  [0.07172016054391861, 0.01349840871989727, 0.3...   \n",
       "4  [3.649910878242777e-18, 1.3378791434164088e-16...   \n",
       "5  [9.174220494401197e-09, 1.2581369446706958e-05...   \n",
       "\n",
       "  Normality Indep. Variable SW_pvalue [Median]  \\\n",
       "0                                    1.967e-10   \n",
       "1                                    4.341e-01   \n",
       "2                                    2.535e-18   \n",
       "3                                    4.341e-01   \n",
       "4                                    2.535e-18   \n",
       "5                                    1.967e-10   \n",
       "\n",
       "  Normality Indep. Variable SW_pvalue [SD]  \\\n",
       "0                                3.609e-06   \n",
       "1                                2.577e-01   \n",
       "2                                1.203e-16   \n",
       "3                                2.577e-01   \n",
       "4                                1.203e-16   \n",
       "5                                3.609e-06   \n",
       "\n",
       "     Normality Indep. Variable Pearson_pvalue [List]  ...  \\\n",
       "0  [1.1762364238483928e-11, 1.5393808856710522e-0...  ...   \n",
       "1  [0.11800737201767288, 0.0783157534591265, 0.31...  ...   \n",
       "2  [3.8340701022867694e-27, 1.7274560169036556e-2...  ...   \n",
       "3  [0.11800737201767288, 0.0783157534591265, 0.31...  ...   \n",
       "4  [3.8340701022867694e-27, 1.7274560169036556e-2...  ...   \n",
       "5  [1.1762364238483928e-11, 1.5393808856710522e-0...  ...   \n",
       "\n",
       "  Normality Residuals Pearson_pvalue [SD]  \\\n",
       "0                               3.483e-02   \n",
       "1                               3.578e-01   \n",
       "2                               5.124e-03   \n",
       "3                               1.692e-01   \n",
       "4                               4.374e-02   \n",
       "5                               2.557e-01   \n",
       "\n",
       "          Normality Residuals Combined_pvalue [List]  \\\n",
       "0  [1.6974924616690583e-13, 2.3619619590414085e-1...   \n",
       "1  [0.6603203427891817, 7.214231446820654e-06, 0....   \n",
       "2  [7.291144160060468e-10, 8.370690512257363e-12,...   \n",
       "3  [2.0286025994704707e-19, 2.886253174949047e-22...   \n",
       "4  [4.673660758849156e-29, 8.886490044160222e-32,...   \n",
       "5  [0.0002262229567556294, 0.02945786377691666, 0...   \n",
       "\n",
       "  Normality Residuals Combined_pvalue [Median]  \\\n",
       "0                                    3.135e-10   \n",
       "1                                    5.323e-01   \n",
       "2                                    7.772e-09   \n",
       "3                                    6.547e-21   \n",
       "4                                    2.001e-13   \n",
       "5                                    1.023e-02   \n",
       "\n",
       "  Normality Residuals Combined_pvalue [SD]  \\\n",
       "0                                2.202e-02   \n",
       "1                                4.068e-01   \n",
       "2                                1.264e-04   \n",
       "3                                3.381e-02   \n",
       "4                                4.159e-03   \n",
       "5                                2.296e-01   \n",
       "\n",
       "  Dependence: Indep. Variable - Residuals LikelihoodVariance [List]  \\\n",
       "0  [-0.20445179709545025, -0.339351161676392, 0.1...                  \n",
       "1  [0.7078546436747026, 0.5637190899442118, 0.948...                  \n",
       "2  [-5.5950002882231455, -5.2988864578505055, -5....                  \n",
       "3  [-3.5485628259598596, -3.576036432467088, -4.9...                  \n",
       "4  [-8.329110943611834, -8.380616446956406, -8.39...                  \n",
       "5  [-2.8718374330768004, -2.5672369398645767, -2....                  \n",
       "\n",
       "  Dependence: Indep. Variable - Residuals LikelihoodVariance [Median]  \\\n",
       "0                                         -4.221e-01                    \n",
       "1                                          7.646e-01                    \n",
       "2                                         -6.193e+00                    \n",
       "3                                         -4.843e+00                    \n",
       "4                                         -9.169e+00                    \n",
       "5                                         -3.152e+00                    \n",
       "\n",
       "  Dependence: Indep. Variable - Residuals LikelihoodVariance [SD]  \\\n",
       "0                                          1.072e+00                \n",
       "1                                          1.996e-01                \n",
       "2                                          2.929e+00                \n",
       "3                                          9.029e-01                \n",
       "4                                          2.881e+00                \n",
       "5                                          8.569e-01                \n",
       "\n",
       "  Dependence: Depen. Variable - Prediction (GoF) LikelihoodVariance [List]  \\\n",
       "0  [3.476556590613085, 3.3497824551055118, 3.7559...                         \n",
       "1  [-4.66246212348337, -4.724936389435406, -4.731...                         \n",
       "2  [3.672995465501089, 3.8718699774548564, 4.5392...                         \n",
       "3  [-15.100053025352242, -14.915525488336936, -15...                         \n",
       "4  [-4.793824389443417, -4.696360115468054, -4.20...                         \n",
       "5  [-15.388442583541142, -14.672650430538763, -15...                         \n",
       "\n",
       "  Dependence: Depen. Variable - Prediction (GoF) LikelihoodVariance [Median]  \\\n",
       "0                                          3.384e+00                           \n",
       "1                                         -5.713e+00                           \n",
       "2                                          3.664e+00                           \n",
       "3                                         -1.706e+01                           \n",
       "4                                         -5.742e+00                           \n",
       "5                                         -1.697e+01                           \n",
       "\n",
       "  Dependence: Depen. Variable - Prediction (GoF) LikelihoodVariance [SD]  \n",
       "0                                          8.182e-01                      \n",
       "1                                          9.601e-01                      \n",
       "2                                          2.373e+00                      \n",
       "3                                          2.241e+00                      \n",
       "4                                          2.306e+00                      \n",
       "5                                          2.428e+00                      \n",
       "\n",
       "[6 rows x 39 columns]"
      ]
     },
     "execution_count": 11,
     "metadata": {},
     "output_type": "execute_result"
    }
   ],
   "source": [
    "mymodel2._results_df\n"
   ]
  },
  {
   "cell_type": "code",
   "execution_count": null,
   "metadata": {},
   "outputs": [],
   "source": []
  },
  {
   "cell_type": "code",
   "execution_count": null,
   "metadata": {},
   "outputs": [],
   "source": []
  },
  {
   "cell_type": "code",
   "execution_count": 12,
   "metadata": {},
   "outputs": [
    {
     "data": {
      "text/plain": [
       "{'age', 'gender', 'sex'}"
      ]
     },
     "execution_count": 12,
     "metadata": {},
     "output_type": "execute_result"
    }
   ],
   "source": [
    "set([\"age\",\"sex\",'gender'])"
   ]
  },
  {
   "cell_type": "code",
   "execution_count": null,
   "metadata": {},
   "outputs": [],
   "source": []
  },
  {
   "cell_type": "code",
   "execution_count": null,
   "metadata": {},
   "outputs": [],
   "source": []
  },
  {
   "cell_type": "code",
   "execution_count": null,
   "metadata": {},
   "outputs": [],
   "source": []
  },
  {
   "cell_type": "code",
   "execution_count": null,
   "metadata": {},
   "outputs": [],
   "source": []
  },
  {
   "cell_type": "code",
   "execution_count": null,
   "metadata": {},
   "outputs": [],
   "source": []
  },
  {
   "cell_type": "code",
   "execution_count": null,
   "metadata": {},
   "outputs": [],
   "source": []
  },
  {
   "cell_type": "code",
   "execution_count": null,
   "metadata": {},
   "outputs": [],
   "source": []
  },
  {
   "cell_type": "code",
   "execution_count": null,
   "metadata": {},
   "outputs": [],
   "source": []
  },
  {
   "cell_type": "code",
   "execution_count": null,
   "metadata": {},
   "outputs": [],
   "source": []
  },
  {
   "cell_type": "code",
   "execution_count": null,
   "metadata": {},
   "outputs": [],
   "source": []
  },
  {
   "cell_type": "code",
   "execution_count": null,
   "metadata": {},
   "outputs": [],
   "source": []
  },
  {
   "cell_type": "code",
   "execution_count": null,
   "metadata": {},
   "outputs": [],
   "source": []
  }
 ],
 "metadata": {
  "kernelspec": {
   "display_name": "Python 3",
   "language": "python",
   "name": "python3"
  },
  "language_info": {
   "codemirror_mode": {
    "name": "ipython",
    "version": 3
   },
   "file_extension": ".py",
   "mimetype": "text/x-python",
   "name": "python",
   "nbconvert_exporter": "python",
   "pygments_lexer": "ipython3",
   "version": "3.6.8"
  }
 },
 "nbformat": 4,
 "nbformat_minor": 4
}
